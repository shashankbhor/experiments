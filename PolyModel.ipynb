{
  "nbformat": 4,
  "nbformat_minor": 0,
  "metadata": {
    "colab": {
      "name": "Copy of Untitled0.ipynb",
      "provenance": [],
      "toc_visible": true,
      "authorship_tag": "ABX9TyMO6SfY9XR5BXK8CZ0dtViB",
      "include_colab_link": true
    },
    "kernelspec": {
      "name": "python3",
      "display_name": "Python 3"
    }
  },
  "cells": [
    {
      "cell_type": "markdown",
      "metadata": {
        "id": "view-in-github",
        "colab_type": "text"
      },
      "source": [
        "<a href=\"https://colab.research.google.com/github/shashankbhor/experiments/blob/master/PolyModel.ipynb\" target=\"_parent\"><img src=\"https://colab.research.google.com/assets/colab-badge.svg\" alt=\"Open In Colab\"/></a>"
      ]
    },
    {
      "cell_type": "markdown",
      "metadata": {
        "id": "LZ6w00yxRIC0",
        "colab_type": "text"
      },
      "source": [
        "Import the data \n",
        "\n"
      ]
    },
    {
      "cell_type": "code",
      "metadata": {
        "id": "PVOL_kMoRTyE",
        "colab_type": "code",
        "outputId": "a1acf9ee-2d4e-4cb6-96c6-16539f646fd6",
        "colab": {
          "base_uri": "https://localhost:8080/",
          "height": 295
        }
      },
      "source": [
        "\n",
        "import numpy as np\n",
        "import pandas as pd\n",
        "import matplotlib.pyplot as plt \n",
        "\n",
        "dataset=pd.read_csv('Position_Salaries.csv')\n",
        "X=dataset.iloc[:,1:2].values\n",
        "y=dataset.iloc[:,2].values\n",
        "\n",
        "''' In this model we would like NOT to miss any slab of data so not going to split the data'''\n",
        "# Splitting the dataset into the Training set and Test set\n",
        "#from sklearn.model_selection import train_test_split\n",
        "#X_train, X_test, y_train, y_test = train_test_split(X, y, test_size = 0.2, random_state = 0)\n",
        "\n",
        "# just for comparison , lets implement linear regression model as well \n",
        "from sklearn.linear_model import LinearRegression\n",
        "lin_reg=LinearRegression()\n",
        "lin_reg.fit(X,y)\n",
        "\n",
        "# Below is Polynomial Regression\n",
        "from sklearn.preprocessing import PolynomialFeatures\n",
        "poly_reg=PolynomialFeatures(degree=3)\n",
        "x_poly=poly_reg.fit_transform(X)\n",
        "\n",
        "# Check the x_poly variable - model has created 2 new features based on degree \n",
        "# Now need to fit this newly created x_poly into Linearmodel\n",
        "lin_reg2=LinearRegression()\n",
        "lin_reg2.fit(x_poly,y)\n",
        "\n",
        "# Visualize prediction of both models \n",
        "plt.scatter(X,y,c='red')\n",
        "''' Graph for Linear '''\n",
        "plt.plot(X,lin_reg.predict(X),c='blue')\n",
        "\n",
        "# Below is optional code to smoothen the graph \n",
        "x_grid=np.arange(min(X),max(X),0.1)\n",
        "x_grid=x_grid.reshape(len(x_grid),1) \n",
        "\n",
        "\n",
        "''' NOTE THE WAY TO PLOT POLY REGRESSION GRAPH '''\n",
        "plt.plot(x_grid,lin_reg2.predict(poly_reg.fit_transform(x_grid)),c='black')\n",
        "plt.xlabel('Level')\n",
        "plt.ylabel('Salaries')\n",
        "plt.title('Polynomial Linear Model')\n",
        "plt.show()"
      ],
      "execution_count": 0,
      "outputs": [
        {
          "output_type": "display_data",
          "data": {
            "image/png": "[encoded data removed]",
            "text/plain": [
              "<Figure size 432x288 with 1 Axes>"
            ]
          },
          "metadata": {
            "tags": [],
            "needs_background": "light"
          }
        }
      ]
    }
  ]
}